{
 "cells": [
  {
   "cell_type": "markdown",
   "metadata": {},
   "source": [
    "Import Libraries and Load Data"
   ]
  },
  {
   "cell_type": "code",
   "execution_count": 3,
   "metadata": {},
   "outputs": [],
   "source": [
    "import pandas as pd\n",
    "from sklearn.preprocessing import StandardScaler\n",
    "from sklearn.cluster import KMeans\n",
    "import matplotlib.pyplot as plt\n",
    "\n",
    "# Load the datasets\n",
    "df_modif_reviews = pd.read_csv('modif_reviews.csv')\n",
    "df_recipes_filtered = pd.read_csv('recipes_filtered_cleaned.csv')\n",
    "fruits_df = pd.read_csv('fruits_data.csv')\n",
    "vegetables_df = pd.read_csv('vegetables_data.csv')\n"
   ]
  },
  {
   "cell_type": "markdown",
   "metadata": {},
   "source": [
    "Preprocess and Merge Data and and convert month in  numerical value"
   ]
  },
  {
   "cell_type": "code",
   "execution_count": 4,
   "metadata": {},
   "outputs": [],
   "source": [
    "# Merge fruits and vegetables into one dataframe\n",
    "seasonal_produce_df = pd.concat([fruits_df, vegetables_df])\n",
    "seasonal_produce_df.columns = ['product_name', 'month', 'country']\n",
    "\n",
    "# Convert month names to numeric values using a mapping dictionary\n",
    "month_mapping = {\n",
    "    'january': 1, 'february': 2, 'march': 3, 'april': 4,\n",
    "    'may': 5, 'june': 6, 'july': 7, 'august': 8,\n",
    "    'september': 9, 'october': 10, 'november': 11, 'december': 12\n",
    "}\n",
    "seasonal_produce_df['month'] = seasonal_produce_df['month'].str.lower().map(month_mapping)\n"
   ]
  },
  {
   "cell_type": "markdown",
   "metadata": {},
   "source": [
    "Define Display Seasonal Produce Function"
   ]
  },
  {
   "cell_type": "code",
   "execution_count": 5,
   "metadata": {},
   "outputs": [],
   "source": [
    "# function to display seasonal produce and get user selection\n",
    "def display_seasonal_produce(country, month):\n",
    "    month_numeric = month_mapping[month.lower()]\n",
    "    seasonal_products = seasonal_produce_df[\n",
    "        (seasonal_produce_df['country'].str.lower() == country.lower()) &\n",
    "        (seasonal_produce_df['month'] == month_numeric)\n",
    "    ]\n",
    "    print(f\"Seasonal Fruits and Vegetables for {country.capitalize()} in {month.capitalize()}:\")\n",
    "    print(seasonal_products[['product_name']].to_string(index=False))\n",
    "    return seasonal_products['product_name'].str.lower().values\n"
   ]
  },
  {
   "cell_type": "markdown",
   "metadata": {},
   "source": [
    "Define Create Features Function"
   ]
  },
  {
   "cell_type": "code",
   "execution_count": 6,
   "metadata": {},
   "outputs": [],
   "source": [
    "# define a function to create features for clustering\n",
    "def create_features(row, seasonal_product_names):\n",
    "    ingredients = row['recipeingredientparts'].split(', ')\n",
    "    seasonal_ingredients = [ingredient for ingredient in ingredients if ingredient in seasonal_product_names]\n",
    "    return len(seasonal_ingredients)\n"
   ]
  },
  {
   "cell_type": "markdown",
   "metadata": {},
   "source": [
    "Example Usage for Seasonal Produce"
   ]
  },
  {
   "cell_type": "code",
   "execution_count": 7,
   "metadata": {},
   "outputs": [
    {
     "name": "stdout",
     "output_type": "stream",
     "text": [
      "Seasonal Fruits and Vegetables for Denmark in August:\n",
      "        product_name\n",
      "               apple\n",
      "          blackberry\n",
      "        blackcurrant\n",
      "           blueberry\n",
      "           muskmelon\n",
      "                pear\n",
      "                plum\n",
      "  beech hat mushroom\n",
      "            beetroot\n",
      "         bell pepper\n",
      "            broccoli\n",
      "             cabbage\n",
      "              carrot\n",
      "         cauliflower\n",
      "            celeriac\n",
      "              celery\n",
      "               chili\n",
      "            cucumber\n",
      "    emperor mushroom\n",
      "      enoki mushroom\n",
      "              fennel\n",
      "    frillice lettuce\n",
      "          green bean\n",
      "    heart of lettuce\n",
      "     iceberg lettuce\n",
      "                leek\n",
      "lollo bionda lettuce\n",
      " lollo rosso lettuce\n",
      "            mushroom\n",
      "    oak leaf lettuce\n",
      "               onion\n",
      "     oyster mushroom\n",
      "            pak choi\n",
      "             parsnip\n",
      "                 pea\n",
      " portobello mushroom\n",
      "             pumpkin\n",
      "         red cabbage\n",
      "             rhubarb\n",
      "     romaine lettuce\n",
      "             salsify\n",
      "             shallot\n",
      "             spinach\n",
      "              squash\n",
      "      summer cabbage\n",
      "          sweet corn\n",
      "              tomato\n",
      "              turnip\n",
      "          white bean\n"
     ]
    }
   ],
   "source": [
    "# example usage to define seasonal_product_names\n",
    "selected_country = 'denmark'\n",
    "selected_month = 'august'\n",
    "\n",
    "seasonal_product_names = display_seasonal_produce(selected_country, selected_month)\n",
    "\n",
    "# assuming the user selects available products\n",
    "# for example, user selects 'cauliflower' and 'pear' from the list\n",
    "user_selected_produce = ['cauliflower', 'pear']\n"
   ]
  },
  {
   "cell_type": "markdown",
   "metadata": {},
   "source": [
    " Apply Create Features Function"
   ]
  },
  {
   "cell_type": "code",
   "execution_count": 8,
   "metadata": {},
   "outputs": [],
   "source": [
    "# apply the create_features function to add a new column\n",
    "df_recipes_filtered['num_seasonal_ingredients'] = df_recipes_filtered.apply(create_features, axis=1, args=(user_selected_produce,))\n"
   ]
  },
  {
   "cell_type": "markdown",
   "metadata": {},
   "source": [
    "Select Features for Clustering and Standardize"
   ]
  },
  {
   "cell_type": "code",
   "execution_count": 9,
   "metadata": {},
   "outputs": [],
   "source": [
    "# select features for clustering\n",
    "features = ['aggregatedrating', 'reviewcount', 'cooktime', 'preptime', 'totaltime', 'num_seasonal_ingredients']\n",
    "X = df_recipes_filtered[features]\n",
    "\n",
    "# Standardize the features\n",
    "scaler = StandardScaler()\n",
    "X_scaled = scaler.fit_transform(X)\n"
   ]
  },
  {
   "cell_type": "markdown",
   "metadata": {},
   "source": [
    "Fit K-means Model and Add Cluster Information"
   ]
  },
  {
   "cell_type": "code",
   "execution_count": 10,
   "metadata": {},
   "outputs": [],
   "source": [
    "# Fit the K-means model with the optimal number of clusters (4 clusters) and set n_init explicitly\n",
    "kmeans = KMeans(n_clusters=4, n_init=10, random_state=42)\n",
    "df_recipes_filtered['cluster'] = kmeans.fit_predict(X_scaled)\n"
   ]
  },
  {
   "cell_type": "markdown",
   "metadata": {},
   "source": [
    "Define Recommendation Function"
   ]
  },
  {
   "cell_type": "code",
   "execution_count": 11,
   "metadata": {},
   "outputs": [],
   "source": [
    "# Recommendation function\n",
    "def recommend_recipes(selected_country, selected_month, selected_produce):\n",
    "    # Convert month name to numeric value\n",
    "    selected_month_numeric = month_mapping[selected_month.lower()]\n",
    "    \n",
    "    # Filter seasonal produce based on user selection\n",
    "    seasonal_products = seasonal_produce_df[\n",
    "        (seasonal_produce_df['country'] == selected_country) &\n",
    "        (seasonal_produce_df['month'] == selected_month_numeric)\n",
    "    ]\n",
    "    \n",
    "    # Get the list of seasonal products\n",
    "    seasonal_product_names = seasonal_products['product_name'].str.lower().values\n",
    "    \n",
    "    # Find recipes with seasonal products and cluster info\n",
    "    def ingredient_match(ingredients, products):\n",
    "        return any(product in ingredients for product in products)\n",
    "    \n",
    "    matching_recipes = df_recipes_filtered[\n",
    "        df_recipes_filtered['recipeingredientparts'].apply(ingredient_match, args=(selected_produce,))\n",
    "    ]\n",
    "    \n",
    "    if matching_recipes.empty:\n",
    "        return \"No matching recipes found.\"\n",
    "    else:\n",
    "        # Return the recipes along with their details and cluster information\n",
    "        return matching_recipes[['recipeid', 'name', 'aggregatedrating', 'reviewcount', 'cluster', 'recipeingredientparts', 'recipeinstructions']]\n"
   ]
  },
  {
   "cell_type": "markdown",
   "metadata": {},
   "source": [
    "Usage of Recommendation Function"
   ]
  },
  {
   "cell_type": "code",
   "execution_count": 12,
   "metadata": {},
   "outputs": [
    {
     "data": {
      "text/html": [
       "<div>\n",
       "<style scoped>\n",
       "    .dataframe tbody tr th:only-of-type {\n",
       "        vertical-align: middle;\n",
       "    }\n",
       "\n",
       "    .dataframe tbody tr th {\n",
       "        vertical-align: top;\n",
       "    }\n",
       "\n",
       "    .dataframe thead th {\n",
       "        text-align: right;\n",
       "    }\n",
       "</style>\n",
       "<table border=\"1\" class=\"dataframe\">\n",
       "  <thead>\n",
       "    <tr style=\"text-align: right;\">\n",
       "      <th></th>\n",
       "      <th>recipeid</th>\n",
       "      <th>name</th>\n",
       "      <th>aggregatedrating</th>\n",
       "      <th>reviewcount</th>\n",
       "      <th>cluster</th>\n",
       "      <th>recipeingredientparts</th>\n",
       "      <th>recipeinstructions</th>\n",
       "    </tr>\n",
       "  </thead>\n",
       "  <tbody>\n",
       "    <tr>\n",
       "      <th>209</th>\n",
       "      <td>264</td>\n",
       "      <td>trifle</td>\n",
       "      <td>4.0</td>\n",
       "      <td>3.0</td>\n",
       "      <td>0</td>\n",
       "      <td>egg white substitute granulated sugar soymilk ...</td>\n",
       "      <td>preheat the oven to 350 degrees beat the egg w...</td>\n",
       "    </tr>\n",
       "    <tr>\n",
       "      <th>213</th>\n",
       "      <td>270</td>\n",
       "      <td>spiced pear butter</td>\n",
       "      <td>5.0</td>\n",
       "      <td>9.0</td>\n",
       "      <td>0</td>\n",
       "      <td>pears innamon sticks allspice loves sugar</td>\n",
       "      <td>combine pears and apple juice in a large dutch...</td>\n",
       "    </tr>\n",
       "    <tr>\n",
       "      <th>216</th>\n",
       "      <td>273</td>\n",
       "      <td>winter pear butter</td>\n",
       "      <td>5.0</td>\n",
       "      <td>3.0</td>\n",
       "      <td>0</td>\n",
       "      <td>pears sugar brandy water</td>\n",
       "      <td>peel quarter and ore the pears hop in 12inch p...</td>\n",
       "    </tr>\n",
       "    <tr>\n",
       "      <th>234</th>\n",
       "      <td>292</td>\n",
       "      <td>curried vegetables</td>\n",
       "      <td>0.0</td>\n",
       "      <td>0.0</td>\n",
       "      <td>1</td>\n",
       "      <td>cauliflower arrots elery onion mayonnaise salt...</td>\n",
       "      <td>cook the auliflower arrots elery and onion in ...</td>\n",
       "    </tr>\n",
       "    <tr>\n",
       "      <th>285</th>\n",
       "      <td>347</td>\n",
       "      <td>roasted tomato and mint salsa</td>\n",
       "      <td>0.0</td>\n",
       "      <td>0.0</td>\n",
       "      <td>1</td>\n",
       "      <td>roma tomatoes garlic love lime juice extra vir...</td>\n",
       "      <td>with a omal or black iron skillet over mediumh...</td>\n",
       "    </tr>\n",
       "    <tr>\n",
       "      <th>...</th>\n",
       "      <td>...</td>\n",
       "      <td>...</td>\n",
       "      <td>...</td>\n",
       "      <td>...</td>\n",
       "      <td>...</td>\n",
       "      <td>...</td>\n",
       "      <td>...</td>\n",
       "    </tr>\n",
       "    <tr>\n",
       "      <th>521152</th>\n",
       "      <td>540793</td>\n",
       "      <td>vegetable masala</td>\n",
       "      <td>0.0</td>\n",
       "      <td>0.0</td>\n",
       "      <td>1</td>\n",
       "      <td>cauliflower potatoes whole umin seed onion gro...</td>\n",
       "      <td>cut the auliflower into florets about 25 mm ac...</td>\n",
       "    </tr>\n",
       "    <tr>\n",
       "      <th>521201</th>\n",
       "      <td>540844</td>\n",
       "      <td>grilled brie ham amp pear sandwich</td>\n",
       "      <td>0.0</td>\n",
       "      <td>0.0</td>\n",
       "      <td>1</td>\n",
       "      <td>bosc pear pomegranate molasses black pepper bu...</td>\n",
       "      <td>assemble sandwich by placing slices of brie fo...</td>\n",
       "    </tr>\n",
       "    <tr>\n",
       "      <th>521246</th>\n",
       "      <td>540892</td>\n",
       "      <td>vegetarian cauliflower cake</td>\n",
       "      <td>0.0</td>\n",
       "      <td>0.0</td>\n",
       "      <td>1</td>\n",
       "      <td>cauliflower kosher salt red onion olive oil fr...</td>\n",
       "      <td>preheat the oven to 400ºf200ºc place the aulif...</td>\n",
       "    </tr>\n",
       "    <tr>\n",
       "      <th>521463</th>\n",
       "      <td>541115</td>\n",
       "      <td>spicy roasted vegetable soup with leftover gri...</td>\n",
       "      <td>0.0</td>\n",
       "      <td>0.0</td>\n",
       "      <td>1</td>\n",
       "      <td>sweet potato baby potatoes turnip parsnip arro...</td>\n",
       "      <td>1 preheat oven to 425 degrees f line 2 large s...</td>\n",
       "    </tr>\n",
       "    <tr>\n",
       "      <th>521587</th>\n",
       "      <td>541239</td>\n",
       "      <td>marinated vegetables  light version</td>\n",
       "      <td>0.0</td>\n",
       "      <td>0.0</td>\n",
       "      <td>1</td>\n",
       "      <td>cauliflower broccoli elery bell pepper onion a...</td>\n",
       "      <td>break or ut vegetables into bite sized pieces ...</td>\n",
       "    </tr>\n",
       "  </tbody>\n",
       "</table>\n",
       "<p>5871 rows × 7 columns</p>\n",
       "</div>"
      ],
      "text/plain": [
       "        recipeid                                               name  \\\n",
       "209          264                                             trifle   \n",
       "213          270                                 spiced pear butter   \n",
       "216          273                                 winter pear butter   \n",
       "234          292                                 curried vegetables   \n",
       "285          347                      roasted tomato and mint salsa   \n",
       "...          ...                                                ...   \n",
       "521152    540793                                   vegetable masala   \n",
       "521201    540844                 grilled brie ham amp pear sandwich   \n",
       "521246    540892                        vegetarian cauliflower cake   \n",
       "521463    541115  spicy roasted vegetable soup with leftover gri...   \n",
       "521587    541239                marinated vegetables  light version   \n",
       "\n",
       "        aggregatedrating  reviewcount  cluster  \\\n",
       "209                  4.0          3.0        0   \n",
       "213                  5.0          9.0        0   \n",
       "216                  5.0          3.0        0   \n",
       "234                  0.0          0.0        1   \n",
       "285                  0.0          0.0        1   \n",
       "...                  ...          ...      ...   \n",
       "521152               0.0          0.0        1   \n",
       "521201               0.0          0.0        1   \n",
       "521246               0.0          0.0        1   \n",
       "521463               0.0          0.0        1   \n",
       "521587               0.0          0.0        1   \n",
       "\n",
       "                                    recipeingredientparts  \\\n",
       "209     egg white substitute granulated sugar soymilk ...   \n",
       "213             pears innamon sticks allspice loves sugar   \n",
       "216                              pears sugar brandy water   \n",
       "234     cauliflower arrots elery onion mayonnaise salt...   \n",
       "285     roma tomatoes garlic love lime juice extra vir...   \n",
       "...                                                   ...   \n",
       "521152  cauliflower potatoes whole umin seed onion gro...   \n",
       "521201  bosc pear pomegranate molasses black pepper bu...   \n",
       "521246  cauliflower kosher salt red onion olive oil fr...   \n",
       "521463  sweet potato baby potatoes turnip parsnip arro...   \n",
       "521587  cauliflower broccoli elery bell pepper onion a...   \n",
       "\n",
       "                                       recipeinstructions  \n",
       "209     preheat the oven to 350 degrees beat the egg w...  \n",
       "213     combine pears and apple juice in a large dutch...  \n",
       "216     peel quarter and ore the pears hop in 12inch p...  \n",
       "234     cook the auliflower arrots elery and onion in ...  \n",
       "285     with a omal or black iron skillet over mediumh...  \n",
       "...                                                   ...  \n",
       "521152  cut the auliflower into florets about 25 mm ac...  \n",
       "521201  assemble sandwich by placing slices of brie fo...  \n",
       "521246  preheat the oven to 400ºf200ºc place the aulif...  \n",
       "521463  1 preheat oven to 425 degrees f line 2 large s...  \n",
       "521587  break or ut vegetables into bite sized pieces ...  \n",
       "\n",
       "[5871 rows x 7 columns]"
      ]
     },
     "metadata": {},
     "output_type": "display_data"
    }
   ],
   "source": [
    "# Example usage\n",
    "recommended_recipes = recommend_recipes(selected_country, selected_month, user_selected_produce)\n",
    "display(recommended_recipes)\n"
   ]
  }
 ],
 "metadata": {
  "kernelspec": {
   "display_name": "Python 3",
   "language": "python",
   "name": "python3"
  },
  "language_info": {
   "codemirror_mode": {
    "name": "ipython",
    "version": 3
   },
   "file_extension": ".py",
   "mimetype": "text/x-python",
   "name": "python",
   "nbconvert_exporter": "python",
   "pygments_lexer": "ipython3",
   "version": "3.11.4"
  },
  "orig_nbformat": 4
 },
 "nbformat": 4,
 "nbformat_minor": 2
}
